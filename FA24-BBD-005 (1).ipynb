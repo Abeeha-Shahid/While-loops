{
 "cells": [
  {
   "cell_type": "code",
   "execution_count": 9,
   "id": "ef6e1588-bdc5-4075-ad7a-61ffcc31b00d",
   "metadata": {},
   "outputs": [
    {
     "name": "stdout",
     "output_type": "stream",
     "text": [
      "1\n",
      "2\n",
      "3\n",
      "4\n",
      "5\n",
      "6\n",
      "7\n",
      "8\n",
      "9\n",
      "10\n"
     ]
    }
   ],
   "source": [
    "# Abeeha Shahid \n",
    "#FA24-BBD-005\n",
    "#Counting with While Loop  \n",
    "#Write a program that uses a while loop to count from 1 to 10 and print each number.\n",
    "count = 1\n",
    "while count <= 10:\n",
    "    print(count)  # Print the current value of count\n",
    "    count += 1    # Increment the count by 1 after each loop iteration"
   ]
  },
  {
   "cell_type": "code",
   "execution_count": 11,
   "id": "5c7d630a-3561-44a0-bd7c-c57ae21e28d5",
   "metadata": {},
   "outputs": [
    {
     "name": "stdout",
     "output_type": "stream",
     "text": [
      "2\n",
      "4\n",
      "6\n",
      "8\n",
      "10\n",
      "12\n",
      "14\n",
      "16\n",
      "18\n",
      "20\n"
     ]
    }
   ],
   "source": [
    "#Even Numbers  \n",
    " # Create a while loop to print all even numbers from 1 to 20.\n",
    "num = 2\n",
    "while num <= 20:\n",
    "    print(num)  # Print the current value of num\n",
    "    num += 2    # Increment num by 2 to get the next even number\n"
   ]
  },
  {
   "cell_type": "code",
   "execution_count": 13,
   "id": "414eeff9-e7ff-4cc6-9adf-892c0cb57830",
   "metadata": {},
   "outputs": [
    {
     "name": "stdout",
     "output_type": "stream",
     "text": [
      "The sum of the first 10 natural numbers is: 55\n"
     ]
    }
   ],
   "source": [
    "#Sum of Natural Numbers\n",
    "#Write a program using a while loop to calculate the sum of the first 10 natural numbers.\n",
    "num = 1  # Start from the first natural number\n",
    "sum_of_numbers = 0  # Initialize the sum to 0\n",
    "\n",
    "# Use a while loop to calculate the sum of the first 10 natural numbers\n",
    "while num <= 10:\n",
    "    sum_of_numbers += num  # Add the current number to the sum\n",
    "    num += 1  # Increment num by 1 to move to the next natural number\n",
    "\n",
    "# Print the result\n",
    "print(\"The sum of the first 10 natural numbers is:\", sum_of_numbers)"
   ]
  },
  {
   "cell_type": "code",
   "execution_count": 15,
   "id": "006af80a-a739-4bfc-9abd-1fbe4262d38f",
   "metadata": {},
   "outputs": [
    {
     "name": "stdin",
     "output_type": "stream",
     "text": [
      "Enter a number (negative number to stop):  7\n",
      "Enter a number (negative number to stop):  4\n",
      "Enter a number (negative number to stop):  -7\n"
     ]
    }
   ],
   "source": [
    "#Write a program that asks the user for input  to enter numbers. The loop should keep asking for numbers until the user enters a negative number. \n",
    "total_sum = 0\n",
    "while True:\n",
    "    num = int(input(\"Enter a number (negative number to stop): \"))\n",
    "    if num < 0:\n",
    "        break  \n",
    "    total_sum += num"
   ]
  },
  {
   "cell_type": "code",
   "execution_count": null,
   "id": "59492157-baf1-41d5-939d-97db519dbb94",
   "metadata": {},
   "outputs": [],
   "source": [
    "#Creating a guessing game where the user has to guess a number between 1 and 100\n",
    "import random\n",
    "secret_number = random.randint(1, 100)\n",
    "guess = None\n",
    "while guess != secret_number:\n",
    "    guess = int(input(\"Guess a number between 1 and 100: \"))\n",
    "    if guess < secret_number:\n",
    "        print(\"Too low! Try again.\")\n",
    "    elif guess > secret_number:\n",
    "        print(\"Too high! Try again.\")\n",
    "    else:\n",
    "        print(\"Congratulations! You've guessed the correct number.\")"
   ]
  },
  {
   "cell_type": "code",
   "execution_count": 1,
   "id": "4aadae44-5043-403a-8cef-85ed6c304aa5",
   "metadata": {},
   "outputs": [
    {
     "name": "stdin",
     "output_type": "stream",
     "text": [
      "Enter a positive integer:  6\n"
     ]
    },
    {
     "name": "stdout",
     "output_type": "stream",
     "text": [
      "The factorial is: 720\n"
     ]
    }
   ],
   "source": [
    "#Write a program to calculate the factorial of a given positive integer using a while loop.\n",
    "num = int(input(\"Enter a positive integer: \"))\n",
    "factorial = 1\n",
    "if num < 0:\n",
    "    print(\"Factorial is not defined for negative numbers.\")\n",
    "else:\n",
    "    while num > 1:\n",
    "        factorial *= num  \n",
    "        num -= 1  \n",
    "    print(f\"The factorial is: {factorial}\")"
   ]
  },
  {
   "cell_type": "code",
   "execution_count": 3,
   "id": "ce580631-cb84-497d-bb83-972b478a9a80",
   "metadata": {},
   "outputs": [
    {
     "name": "stdin",
     "output_type": "stream",
     "text": [
      "Enter a number (or 'done' to finish):  5\n",
      "Enter a number (or 'done' to finish):  0.6\n",
      "Enter a number (or 'done' to finish):  done\n"
     ]
    },
    {
     "name": "stdout",
     "output_type": "stream",
     "text": [
      "The average is: 2.8\n"
     ]
    }
   ],
   "source": [
    "#Write a program that uses a while loop to take in a series of numbers from the user. The loop should stop when the user enters \"done\".\n",
    "total_sum = 0\n",
    "count = 0\n",
    "while True:\n",
    "    user_input = input(\"Enter a number (or 'done' to finish): \")\n",
    "    \n",
    "    if user_input.lower() == \"done\":\n",
    "        break\n",
    "    \n",
    "    total_sum += float(user_input)\n",
    "    count += 1\n",
    "if count > 0:\n",
    "    print(f\"The average is: {total_sum / count}\")\n",
    "else:\n",
    "    print(\"No numbers entered.\")"
   ]
  },
  {
   "cell_type": "code",
   "execution_count": 7,
   "id": "dbc5631f-2d59-4265-818c-e26773b7daca",
   "metadata": {},
   "outputs": [
    {
     "name": "stdin",
     "output_type": "stream",
     "text": [
      "Enter a number:  1\n"
     ]
    },
    {
     "name": "stdout",
     "output_type": "stream",
     "text": [
      "0 1 1 "
     ]
    }
   ],
   "source": [
    "#Using a while loop, print the Fibonacci sequence up to a specified number n (where n is an integer input by the user).\n",
    "n = int(input(\"Enter a number: \"))\n",
    "a, b = 0, 1\n",
    "while a <= n:\n",
    "    print(a, end=\" \")  \n",
    "    a, b = b, a + b   "
   ]
  },
  {
   "cell_type": "code",
   "execution_count": null,
   "id": "a2b54cf1-c76c-4dbb-b636-61bc1c286b9c",
   "metadata": {},
   "outputs": [],
   "source": []
  }
 ],
 "metadata": {
  "kernelspec": {
   "display_name": "Python 3 (ipykernel)",
   "language": "python",
   "name": "python3"
  },
  "language_info": {
   "codemirror_mode": {
    "name": "ipython",
    "version": 3
   },
   "file_extension": ".py",
   "mimetype": "text/x-python",
   "name": "python",
   "nbconvert_exporter": "python",
   "pygments_lexer": "ipython3",
   "version": "3.12.4"
  }
 },
 "nbformat": 4,
 "nbformat_minor": 5
}
